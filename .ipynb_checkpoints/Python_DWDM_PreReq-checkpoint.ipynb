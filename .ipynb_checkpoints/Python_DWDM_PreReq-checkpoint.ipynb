{
 "cells": [
  {
   "cell_type": "markdown",
   "metadata": {},
   "source": [
    "### Hrishikesh Mahajan | Panel 6 | PF-53\n",
    "### Faculty: Prof. Varsha Powar\n",
    "### DWDM Python Prerequisite (Submission Copy)"
   ]
  },
  {
   "cell_type": "markdown",
   "metadata": {},
   "source": [
    "### Lists\n",
    "\n",
    "    1) Creating lists\n",
    "    2) Indexing and Slicing Lists\n",
    "    3) Basic List Methods\n",
    "    4) Nesting Lists\n",
    "    5) Introduction to List Comprehensions\n",
    "\n",
    "Lists are constructed with brackets [] and commas separating every element in the list."
   ]
  },
  {
   "cell_type": "code",
   "execution_count": 1,
   "metadata": {},
   "outputs": [],
   "source": [
    "#can hold n number of elements \n",
    "my_list = [1,2,3,4,5]"
   ]
  },
  {
   "cell_type": "code",
   "execution_count": 4,
   "metadata": {},
   "outputs": [],
   "source": [
    "#can hold different datatypes\n",
    "my_list = ['String',23000,178.32,'g']"
   ]
  },
  {
   "cell_type": "code",
   "execution_count": 5,
   "metadata": {},
   "outputs": [
    {
     "data": {
      "text/plain": [
       "4"
      ]
     },
     "execution_count": 5,
     "metadata": {},
     "output_type": "execute_result"
    }
   ],
   "source": [
    "#computing length\n",
    "len(my_list)"
   ]
  },
  {
   "cell_type": "code",
   "execution_count": 6,
   "metadata": {},
   "outputs": [
    {
     "data": {
      "text/plain": [
       "178.32"
      ]
     },
     "execution_count": 6,
     "metadata": {},
     "output_type": "execute_result"
    }
   ],
   "source": [
    "#Indexing \n",
    "my_list[2]\n",
    "#notice that indexing starts at 0"
   ]
  },
  {
   "cell_type": "code",
   "execution_count": 7,
   "metadata": {},
   "outputs": [
    {
     "data": {
      "text/plain": [
       "[23000, 178.32]"
      ]
     },
     "execution_count": 7,
     "metadata": {},
     "output_type": "execute_result"
    }
   ],
   "source": [
    "#slicing (Getting a part of a list)\n",
    "my_list[1:3]"
   ]
  },
  {
   "cell_type": "code",
   "execution_count": 8,
   "metadata": {},
   "outputs": [
    {
     "data": {
      "text/plain": [
       "'g'"
      ]
     },
     "execution_count": 8,
     "metadata": {},
     "output_type": "execute_result"
    }
   ],
   "source": [
    "#negative indexing\n",
    "my_list[-1]\n",
    "#gives elements from reverse order"
   ]
  },
  {
   "cell_type": "code",
   "execution_count": 9,
   "metadata": {},
   "outputs": [],
   "source": [
    "#Adding elements to the list \n",
    "my_list.append('Apple')"
   ]
  },
  {
   "cell_type": "code",
   "execution_count": 10,
   "metadata": {},
   "outputs": [
    {
     "data": {
      "text/plain": [
       "['String', 23000, 178.32, 'g', 'Apple']"
      ]
     },
     "execution_count": 10,
     "metadata": {},
     "output_type": "execute_result"
    }
   ],
   "source": [
    "my_list"
   ]
  },
  {
   "cell_type": "code",
   "execution_count": 11,
   "metadata": {},
   "outputs": [
    {
     "data": {
      "text/plain": [
       "'Apple'"
      ]
     },
     "execution_count": 11,
     "metadata": {},
     "output_type": "execute_result"
    }
   ],
   "source": [
    "#pop and return popped item\n",
    "my_list.pop()"
   ]
  },
  {
   "cell_type": "code",
   "execution_count": 12,
   "metadata": {},
   "outputs": [
    {
     "data": {
      "text/plain": [
       "['Lorem', 'Ipsum', 'Dolor']"
      ]
     },
     "execution_count": 12,
     "metadata": {},
     "output_type": "execute_result"
    }
   ],
   "source": [
    "#typecasting strings to lists\n",
    "demo_string = 'Lorem Ipsum Dolor'\n",
    "string_to_list = list(demo_string.split())\n",
    "string_to_list"
   ]
  },
  {
   "cell_type": "code",
   "execution_count": 18,
   "metadata": {},
   "outputs": [
    {
     "name": "stdout",
     "output_type": "stream",
     "text": [
      "Numbers still in string format: \n",
      "['1', '2', '3', '4', '7', '44', '34']\n",
      "1 + 2 = 12\n",
      "Numbers now in Integer Format\n",
      "[1, 2, 3, 4, 7, 44, 34]\n",
      "1 + 2 = 3\n"
     ]
    }
   ],
   "source": [
    "#mapping strings in list to integer\n",
    "integers_in_string = \"1 2 3 4 7 44 34\"\n",
    "string_to_list = list(integers_in_string.split())\n",
    "print(\"Numbers still in string format: \")\n",
    "print(string_to_list)\n",
    "print(\"{} + {} = {}\".format(string_to_list[0], string_to_list[1],string_to_list[0]+string_to_list[1]))\n",
    "string_to_list = list(map(int, string_to_list))\n",
    "print(\"Numbers now in Integer Format\")\n",
    "print(string_to_list)\n",
    "print(\"{} + {} = {}\".format(string_to_list[0], string_to_list[1],string_to_list[0]+string_to_list[1]))"
   ]
  },
  {
   "cell_type": "code",
   "execution_count": 23,
   "metadata": {},
   "outputs": [
    {
     "name": "stdout",
     "output_type": "stream",
     "text": [
      "List before sorting: \n",
      "[87, 345, 67, 345, 24, 6, 4576, 22]\n",
      "List after sorting: \n",
      "[6, 22, 24, 67, 87, 345, 345, 4576]\n",
      "List after reversing: \n",
      "[4576, 345, 345, 87, 67, 24, 22, 6]\n"
     ]
    }
   ],
   "source": [
    "print(\"List before sorting: \")\n",
    "num_list = [87,345,67,345,24,6,4576,22]\n",
    "print(num_list)\n",
    "print(\"List after sorting: \")\n",
    "num_list.sort()\n",
    "print(num_list)\n",
    "print(\"List after reversing: \")\n",
    "num_list.reverse()\n",
    "print(num_list)"
   ]
  },
  {
   "cell_type": "code",
   "execution_count": 24,
   "metadata": {},
   "outputs": [
    {
     "name": "stdout",
     "output_type": "stream",
     "text": [
      "[[34, 56, 12], [34, 67, 33], [27, 64, 12]]\n"
     ]
    }
   ],
   "source": [
    "#Nested Lists\n",
    "list_1 = [34,56,12]\n",
    "list_2 = [34,67,33]\n",
    "list_3 = [27,64,12]\n",
    "\n",
    "list_all = [list_1,list_2, list_3]\n",
    "print(list_all)"
   ]
  },
  {
   "cell_type": "code",
   "execution_count": 25,
   "metadata": {},
   "outputs": [
    {
     "data": {
      "text/plain": [
       "67"
      ]
     },
     "execution_count": 25,
     "metadata": {},
     "output_type": "execute_result"
    }
   ],
   "source": [
    "list_all[1][1]"
   ]
  },
  {
   "cell_type": "code",
   "execution_count": 26,
   "metadata": {},
   "outputs": [
    {
     "name": "stdout",
     "output_type": "stream",
     "text": [
      "[1302, 1303, 1304, 1305, 1306, 1307, 1308, 1309, 1310, 1311]\n"
     ]
    }
   ],
   "source": [
    "# List comprehensions\n",
    "comp_list = [i for i in range(1302,1312)]\n",
    "print(comp_list)"
   ]
  },
  {
   "cell_type": "markdown",
   "metadata": {},
   "source": [
    "# Tuple\n",
    "\n",
    "    1.) Constructing Tuples\n",
    "    2.) Basic Tuple Methods\n",
    "    3.) Immutability\n",
    "    4.) When to Use Tuples."
   ]
  },
  {
   "cell_type": "code",
   "execution_count": 32,
   "metadata": {},
   "outputs": [],
   "source": [
    "my_tuple = ('one', 2, 3)"
   ]
  },
  {
   "cell_type": "code",
   "execution_count": 34,
   "metadata": {},
   "outputs": [
    {
     "data": {
      "text/plain": [
       "0"
      ]
     },
     "execution_count": 34,
     "metadata": {},
     "output_type": "execute_result"
    }
   ],
   "source": [
    "#index gives the index of the element passed in the function present in the tuple\n",
    "my_tuple.index('one')"
   ]
  },
  {
   "cell_type": "code",
   "execution_count": 37,
   "metadata": {},
   "outputs": [],
   "source": [
    "#count gives the number of times the element appears in the tuple\n",
    "my_tuple = (3, 5, 2, 2, 2, 5, 3)"
   ]
  },
  {
   "cell_type": "code",
   "execution_count": 38,
   "metadata": {},
   "outputs": [
    {
     "data": {
      "text/plain": [
       "3"
      ]
     },
     "execution_count": 38,
     "metadata": {},
     "output_type": "execute_result"
    }
   ],
   "source": [
    "my_tuple.count(2)"
   ]
  },
  {
   "cell_type": "code",
   "execution_count": 42,
   "metadata": {},
   "outputs": [
    {
     "data": {
      "text/plain": [
       "\"\\nTypeError                                 Traceback (most recent call last)\\n<ipython-input-39-fd58395d990e> in <module>\\n      1 #It can't be stressed enough that tuples are immutable. To drive that point home:\\n----> 2 my_tuple[0] = 90\\n\\nTypeError: 'tuple' object does not support item assignment\\n\""
      ]
     },
     "execution_count": 42,
     "metadata": {},
     "output_type": "execute_result"
    }
   ],
   "source": [
    "#It can't be stressed enough that tuples are immutable. To drive that point home:\n",
    "#my_tuple[0] = 90\n",
    "'''\n",
    "TypeError                                 Traceback (most recent call last)\n",
    "<ipython-input-39-fd58395d990e> in <module>\n",
    "      1 #It can't be stressed enough that tuples are immutable. To drive that point home:\n",
    "----> 2 my_tuple[0] = 90\n",
    "\n",
    "TypeError: 'tuple' object does not support item assignment\n",
    "'''"
   ]
  },
  {
   "cell_type": "code",
   "execution_count": 41,
   "metadata": {},
   "outputs": [
    {
     "data": {
      "text/plain": [
       "\"\\n---------------------------------------------------------------------------\\nAttributeError                            Traceback (most recent call last)\\n<ipython-input-40-3f71281178a3> in <module>\\n      1 #Because of this immutability, tuples can't grow. Once a tuple is made we can not add to it.\\n----> 2 my_tuple.append(7)\\n\\nAttributeError: 'tuple' object has no attribute 'append'\\n\""
      ]
     },
     "execution_count": 41,
     "metadata": {},
     "output_type": "execute_result"
    }
   ],
   "source": [
    "#Because of this immutability, tuples can't grow. Once a tuple is made we can not add to it.\n",
    "#my_tuple.append(7)\n",
    "'''\n",
    "---------------------------------------------------------------------------\n",
    "AttributeError                            Traceback (most recent call last)\n",
    "<ipython-input-40-3f71281178a3> in <module>\n",
    "      1 #Because of this immutability, tuples can't grow. Once a tuple is made we can not add to it.\n",
    "----> 2 my_tuple.append(7)\n",
    "\n",
    "AttributeError: 'tuple' object has no attribute 'append'\n",
    "'''"
   ]
  },
  {
   "cell_type": "markdown",
   "metadata": {},
   "source": [
    "### Set"
   ]
  },
  {
   "cell_type": "code",
   "execution_count": 43,
   "metadata": {},
   "outputs": [],
   "source": [
    "my_set = set()"
   ]
  },
  {
   "cell_type": "code",
   "execution_count": 46,
   "metadata": {},
   "outputs": [
    {
     "data": {
      "text/plain": [
       "{1}"
      ]
     },
     "execution_count": 46,
     "metadata": {},
     "output_type": "execute_result"
    }
   ],
   "source": [
    "my_set.add(1)\n",
    "my_set"
   ]
  },
  {
   "cell_type": "code",
   "execution_count": 47,
   "metadata": {},
   "outputs": [
    {
     "data": {
      "text/plain": [
       "{1, 3}"
      ]
     },
     "execution_count": 47,
     "metadata": {},
     "output_type": "execute_result"
    }
   ],
   "source": [
    "my_set.add(3)\n",
    "my_set"
   ]
  },
  {
   "cell_type": "code",
   "execution_count": 48,
   "metadata": {},
   "outputs": [
    {
     "data": {
      "text/plain": [
       "{1, 3, 7}"
      ]
     },
     "execution_count": 48,
     "metadata": {},
     "output_type": "execute_result"
    }
   ],
   "source": [
    "my_set.add(7)\n",
    "my_set"
   ]
  },
  {
   "cell_type": "code",
   "execution_count": 49,
   "metadata": {},
   "outputs": [
    {
     "data": {
      "text/plain": [
       "{1, 3, 7}"
      ]
     },
     "execution_count": 49,
     "metadata": {},
     "output_type": "execute_result"
    }
   ],
   "source": [
    "my_set.add(1)\n",
    "my_set\n",
    "# notice how it wont add 1 again since it is a set"
   ]
  },
  {
   "cell_type": "code",
   "execution_count": 50,
   "metadata": {},
   "outputs": [],
   "source": [
    "set_a = {'a','b','c','d','e','f','g'}\n",
    "set_b = {'b','c','x','y','z','l','m'}"
   ]
  },
  {
   "cell_type": "code",
   "execution_count": 52,
   "metadata": {},
   "outputs": [
    {
     "data": {
      "text/plain": [
       "{'b', 'c'}"
      ]
     },
     "execution_count": 52,
     "metadata": {},
     "output_type": "execute_result"
    }
   ],
   "source": [
    "# here we get the common elements of the two strings\n",
    "set_a.intersection(set_b)"
   ]
  },
  {
   "cell_type": "code",
   "execution_count": 53,
   "metadata": {},
   "outputs": [
    {
     "data": {
      "text/plain": [
       "{'a', 'b', 'c', 'd', 'e', 'f', 'g', 'l', 'm', 'x', 'y', 'z'}"
      ]
     },
     "execution_count": 53,
     "metadata": {},
     "output_type": "execute_result"
    }
   ],
   "source": [
    "# here we get all the elements of the two strings\n",
    "set_a.union(set_b)"
   ]
  },
  {
   "cell_type": "code",
   "execution_count": 54,
   "metadata": {},
   "outputs": [
    {
     "data": {
      "text/plain": [
       "True"
      ]
     },
     "execution_count": 54,
     "metadata": {},
     "output_type": "execute_result"
    }
   ],
   "source": [
    "#now we check for subset function\n",
    "set_subset_a = {'a','b','c'}\n",
    "set_subset_a.issubset(set_a)"
   ]
  },
  {
   "cell_type": "code",
   "execution_count": 55,
   "metadata": {},
   "outputs": [
    {
     "data": {
      "text/plain": [
       "True"
      ]
     },
     "execution_count": 55,
     "metadata": {},
     "output_type": "execute_result"
    }
   ],
   "source": [
    "#tests if calling set is super set\n",
    "set_a.issuperset(set_subset_a)"
   ]
  },
  {
   "cell_type": "markdown",
   "metadata": {},
   "source": [
    "### Dictionary"
   ]
  },
  {
   "cell_type": "code",
   "execution_count": 56,
   "metadata": {},
   "outputs": [
    {
     "data": {
      "text/plain": [
       "{1: ['Hari', 29, 'Pune'], 2: ['Omkar', 78, 'Mumbai']}"
      ]
     },
     "execution_count": 56,
     "metadata": {},
     "output_type": "execute_result"
    }
   ],
   "source": [
    "dictionary_a = { 1: ['Hari', 29, 'Pune'], 2: ['Omkar', 78, 'Mumbai']}\n",
    "dictionary_a\n"
   ]
  },
  {
   "cell_type": "code",
   "execution_count": 61,
   "metadata": {},
   "outputs": [
    {
     "name": "stdout",
     "output_type": "stream",
     "text": [
      "Keys: dict_keys([1, 2])\n",
      "Values: dict_values([['Hari', 29, 'Pune'], ['Omkar', 78, 'Mumbai']])\n"
     ]
    }
   ],
   "source": [
    "# Gives the keys used in dictionary\n",
    "print(\"Keys: {}\".format(dictionary_a.keys()))\n",
    "\n",
    "#gives the values in the dictionary\n",
    "print(\"Values: {}\".format(dictionary_a.values()))"
   ]
  },
  {
   "cell_type": "code",
   "execution_count": 62,
   "metadata": {},
   "outputs": [
    {
     "data": {
      "text/plain": [
       "{1: ['Joey', 121, 'Kolkata'], 2: ['Omkar', 78, 'Mumbai']}"
      ]
     },
     "execution_count": 62,
     "metadata": {},
     "output_type": "execute_result"
    }
   ],
   "source": [
    "dictionary_a[1] = ['Joey',121, 'Kolkata']\n",
    "dictionary_a"
   ]
  },
  {
   "cell_type": "markdown",
   "metadata": {},
   "source": [
    "### Functions in Python"
   ]
  },
  {
   "cell_type": "code",
   "execution_count": 63,
   "metadata": {},
   "outputs": [],
   "source": [
    "def add(a, b):\n",
    "    return a + b"
   ]
  },
  {
   "cell_type": "code",
   "execution_count": 64,
   "metadata": {},
   "outputs": [
    {
     "data": {
      "text/plain": [
       "3"
      ]
     },
     "execution_count": 64,
     "metadata": {},
     "output_type": "execute_result"
    }
   ],
   "source": [
    "add(1,2)"
   ]
  },
  {
   "cell_type": "code",
   "execution_count": 65,
   "metadata": {},
   "outputs": [],
   "source": [
    "#the above function is somewhat limited in taking arguments so we use *args\n",
    "def add(*args):\n",
    "    return sum(args)"
   ]
  },
  {
   "cell_type": "code",
   "execution_count": 66,
   "metadata": {},
   "outputs": [
    {
     "data": {
      "text/plain": [
       "3"
      ]
     },
     "execution_count": 66,
     "metadata": {},
     "output_type": "execute_result"
    }
   ],
   "source": [
    "add(1,2)"
   ]
  },
  {
   "cell_type": "code",
   "execution_count": 67,
   "metadata": {},
   "outputs": [
    {
     "data": {
      "text/plain": [
       "92"
      ]
     },
     "execution_count": 67,
     "metadata": {},
     "output_type": "execute_result"
    }
   ],
   "source": [
    "add(9,4,23,56)"
   ]
  },
  {
   "cell_type": "code",
   "execution_count": 69,
   "metadata": {},
   "outputs": [],
   "source": [
    "def sum_of_squares(*args):\n",
    "    squares = [i**2 for i in args]\n",
    "    return sum(squares)"
   ]
  },
  {
   "cell_type": "code",
   "execution_count": 70,
   "metadata": {},
   "outputs": [
    {
     "data": {
      "text/plain": [
       "13"
      ]
     },
     "execution_count": 70,
     "metadata": {},
     "output_type": "execute_result"
    }
   ],
   "source": [
    "sum_of_squares(2,3)"
   ]
  },
  {
   "cell_type": "code",
   "execution_count": 71,
   "metadata": {},
   "outputs": [
    {
     "data": {
      "text/plain": [
       "99"
      ]
     },
     "execution_count": 71,
     "metadata": {},
     "output_type": "execute_result"
    }
   ],
   "source": [
    "sum_of_squares(2,3,6,5,4,3)"
   ]
  },
  {
   "cell_type": "code",
   "execution_count": 82,
   "metadata": {},
   "outputs": [],
   "source": [
    "def para_maker(para_text):\n",
    "    para_text = para_text.split('.')\n",
    "    for line in para_text:\n",
    "        print(line, end='\\n')"
   ]
  },
  {
   "cell_type": "code",
   "execution_count": 83,
   "metadata": {},
   "outputs": [
    {
     "name": "stdout",
     "output_type": "stream",
     "text": [
      "Hello\n",
      "I am Todd\n",
      "Todd Chavez\n"
     ]
    }
   ],
   "source": [
    "para_maker(\"Hello.I am Todd.Todd Chavez\")"
   ]
  },
  {
   "cell_type": "code",
   "execution_count": 84,
   "metadata": {},
   "outputs": [
    {
     "name": "stdout",
     "output_type": "stream",
     "text": [
      "Bojack Horseman and Mister PeanutButter in the same frame?\n",
      "What is this?\n",
      "A crossover episode?\n"
     ]
    }
   ],
   "source": [
    "para_maker(\"Bojack Horseman and Mister PeanutButter in the same frame?.What is this?.A crossover episode?\")"
   ]
  }
 ],
 "metadata": {
  "kernelspec": {
   "display_name": "Python 3",
   "language": "python",
   "name": "python3"
  },
  "language_info": {
   "codemirror_mode": {
    "name": "ipython",
    "version": 3
   },
   "file_extension": ".py",
   "mimetype": "text/x-python",
   "name": "python",
   "nbconvert_exporter": "python",
   "pygments_lexer": "ipython3",
   "version": "3.7.3"
  }
 },
 "nbformat": 4,
 "nbformat_minor": 2
}
